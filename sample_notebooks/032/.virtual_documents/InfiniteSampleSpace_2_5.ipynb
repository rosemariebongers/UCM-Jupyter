


from random import random

def runExperiment(p):
    # Flip until we get heads, record results
    S = ''

    while True:
        r = random()
        if r < p:
            S += 'H'
            break
        else:
            S += 'T'

    # Return the results to the user
    return len(S)

# Report the results
p = 0.2
print(f'Using p = {p}, it took {runExperiment(p)} flips to see H')





numTrials = 100000 # You can modify this!
p = 0.3            # This too!

# Run the experiment repeatedly
counts = []
for _ in range(numTrials):
    counts.append(runExperiment(p))

# Report
print(f'Using {numTrials} trials: average number of flips = {sum(counts) / numTrials}')






