# Demonstration from class. See September_12.ipynb
# for installation instructions from the following packages:
from random import random
import numpy as np
import matplotlib.pyplot as plt

# Without these packages installed, the notebook will not run!

# Set up a uniformly distributed random variable
def Unif():
    return random()

# Get n copies of a uniformly distributed random variable 
# and average them all
def average_rv(n):
    s = 0
    for _ in range(n):
        s += Unif()  # This actually runs the trial
    return s/n
    
# Set up a plot of a random variable's pdf by 
# simulating a bunch of outcomes of the random variable
def plotPDF(n):

    # Run the trials to get the simulation
    num_trials = 1000000
    outcomes = [average_rv(n) for _ in range(num_trials)]

    # Bin the outcomes into a histogram
    hist, bins = np.histogram(outcomes, bins=100)
    bin_centers = (bins[1:] + bins[:-1])*.5

    # Set up the window and plot
    plt.xlim(-0.1, 1.1)
    plt.ylim(0, 5)
    plt.plot(bin_centers, 100*hist / num_trials)

# Plot the PDF of an average of n uniformly distributed
# random variables using the above function

# This is the number of random variables we're averaging.
plotPDF(2)






