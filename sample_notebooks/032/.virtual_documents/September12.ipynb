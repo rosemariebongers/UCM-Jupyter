# Initialize the graphing pieces. This works on my system because
# I've already installed numpy and matplotlib on my own system
# using PIP. You can find installation instructions for PIP in your
# environment (Windows, Mac, or Linux where it's easiest!) if you're
# interested in plotting data with Python in general. 

# Alternatively, there are other ways that you can install packages
# such as numpy or matplotlib.
import numpy as np
import matplotlib.pyplot as plt

# Initialize the basic stuff with factorials and the binomial distribution
# This is copied from weekly2.
def fact(n):
    if n == 0:
        return 1
    else:
        return n*fact(n - 1)
        
def choose(n, k):
    return fact(n) // (fact(k) * fact(n - k))

def pmf(k, N, p):
    return choose(N, k) * (p**k) * (1 - p)**(N - k)


# Initialize some data about the distribution. These are the tunable parameters
# that we're allowed to alter.
N = 100
p = 0.01

# Set up the data for plotting. x is taking the roles of the inputs, y
# are the outputs.
x = range(0, N + 1)
y = [0 for _ in range(N + 1)]

# Compute the pmf given some parameters
for k in range(N + 1):
    y[k] = pmf(k, N, p)

# This step is optional: if you want to zoom in to a particular region, then
# change the values for leftEnd and rightEnd appropriately and uncomment.

leftEnd = 0
rightEnd = 10
plt.xlim(leftEnd, rightEnd)

# Plot it!
plt.plot(x, y, 'o')
