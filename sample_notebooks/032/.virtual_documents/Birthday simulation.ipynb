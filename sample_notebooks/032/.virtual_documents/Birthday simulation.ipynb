


# Set up a list of randomly chosen birthdays, beginning with day 0 being Jan-1

from random import randint
birthdays = []

while True: 
    next_bDay = randint(0, 365)
    if next_bDay in birthdays:
        count = len(birthdays) + 1
        print('Number of people in room: ' + str(count))
        break
    else:
        birthdays.append(next_bDay)





from random import randint
people_counts = [] # Keep track of how many people before collision

numTrials = 10000 # Do this many trials of the first simulation
for _ in range(numTrials): 
    birthdays = []
    
    while True:
        next_bDay = randint(0, 365)
        if next_bDay in birthdays:
            count = len(birthdays) + 1
            people_counts.append(count)
            break
        else:
            birthdays.append(next_bDay)
            
# Now report the average
average = sum(people_counts) / numTrials
print(f'Average number of people in {numTrials} simulations: {average}')






