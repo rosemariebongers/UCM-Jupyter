# Demonstration from class. See September_12.ipynb
# for installation instructions from the following packages:
from random import random
import numpy as np
import matplotlib.pyplot as plt
from math import log

# Without these packages installed, the notebook will not run!

# Set up a uniformly distributed random variable
def Unif():
    return random()

def Exp(lamb):
    r = random()
    return -log(1 - r) / lamb
    
# Set up a Pareto(alpha) random variable using the 
# technique of Chapter 6
def Pareto(alpha):
    r = random()
    return (1 - r)**(-1/alpha)

# Set up a plot of a random variable's pdf by 
# simulating a bunch of outcomes of the random variable
def plotAverages(n):

    # Run the trials to get the simulation
    num_trials = n
    outcomes = [Pareto(1) for _ in range(num_trials)]

    # Compute the running averages
    averages = [0]
    for k in range(1,n+1):
        running_average = sum(outcomes[0:k]) / k
        averages.append(running_average)
        
    #averages = [Unif() for _ in range(num_trials)]

    # Set up the window and plot
    plt.xlim(0, n+1)
    plt.ylim(0, 1.2*max(averages))
    #plt.plot(bin_centers, 100*hist / num_trials)
    plt.plot(averages)
    #print(averages)

# Plot the PDF of an average of n uniformly distributed
# random variables using the above function

# This is the number of random variables we're averaging.
plotAverages(100000)
# print(averages)
