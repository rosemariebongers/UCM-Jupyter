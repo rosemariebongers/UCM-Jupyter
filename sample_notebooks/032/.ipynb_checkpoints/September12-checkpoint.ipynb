{
 "cells": [
  {
   "cell_type": "code",
   "execution_count": 1,
   "id": "e7660489-0225-461e-afb5-df0953fdcbfb",
   "metadata": {},
   "outputs": [],
   "source": [
    "# Initialize the graphing pieces. This works on my system because\n",
    "# I've already installed numpy and matplotlib on my own system\n",
    "# using PIP. You can find installation instructions for PIP in your\n",
    "# environment (Windows, Mac, or Linux where it's easiest!) if you're\n",
    "# interested in plotting data with Python in general. \n",
    "\n",
    "# Alternatively, there are other ways that you can install packages\n",
    "# such as numpy or matplotlib.\n",
    "import numpy as np\n",
    "import matplotlib.pyplot as plt\n",
    "\n",
    "# Initialize the basic stuff with factorials and the binomial distribution\n",
    "# This is copied from weekly2.\n",
    "def fact(n):\n",
    "    if n == 0:\n",
    "        return 1\n",
    "    else:\n",
    "        return n*fact(n - 1)\n",
    "        \n",
    "def choose(n, k):\n",
    "    return fact(n) // (fact(k) * fact(n - k))\n",
    "\n",
    "def pmf(k, N, p):\n",
    "    return choose(N, k) * (p**k) * (1 - p)**(N - k)"
   ]
  },
  {
   "cell_type": "code",
   "execution_count": null,
   "id": "ef1e4259-8d3d-4d61-97fb-a2d752a8f61e",
   "metadata": {},
   "outputs": [],
   "source": [
    "# Initialize some data about the distribution. These are the tunable parameters\n",
    "# that we're allowed to alter.\n",
    "N = 100\n",
    "p = 0.01\n",
    "\n",
    "# Set up the data for plotting. x is taking the roles of the inputs, y\n",
    "# are the outputs.\n",
    "x = range(0, N + 1)\n",
    "y = [0 for _ in range(N + 1)]\n",
    "\n",
    "# Compute the pmf given some parameters\n",
    "for k in range(N + 1):\n",
    "    y[k] = pmf(k, N, p)\n",
    "\n",
    "# This step is optional: if you want to zoom in to a particular region, then\n",
    "# change the values for leftEnd and rightEnd appropriately and uncomment.\n",
    "\n",
    "leftEnd = 0\n",
    "rightEnd = 10\n",
    "plt.xlim(leftEnd, rightEnd)\n",
    "\n",
    "# Plot it!\n",
    "plt.plot(x, y, 'o')"
   ]
  }
 ],
 "metadata": {
  "kernelspec": {
   "display_name": "Python 3 (ipykernel)",
   "language": "python",
   "name": "python3"
  },
  "language_info": {
   "codemirror_mode": {
    "name": "ipython",
    "version": 3
   },
   "file_extension": ".py",
   "mimetype": "text/x-python",
   "name": "python",
   "nbconvert_exporter": "python",
   "pygments_lexer": "ipython3",
   "version": "3.11.5"
  }
 },
 "nbformat": 4,
 "nbformat_minor": 5
}
