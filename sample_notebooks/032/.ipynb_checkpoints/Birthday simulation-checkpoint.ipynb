{
 "cells": [
  {
   "cell_type": "markdown",
   "id": "0a1aecaa-7214-4cbb-b7b6-27b443682bd2",
   "metadata": {},
   "source": [
    "This code is meant to illustrate the Birthday Problem that we discussed in class. It will simulate randomly chosen birthdays (with a uniform distribution throughout the year!) and then wait until two people have the same birthday.\n",
    "\n",
    "You can press ctrl-enter (or cmd-enter) to execute the code block below:"
   ]
  },
  {
   "cell_type": "code",
   "execution_count": 5,
   "id": "dab0a6af-a257-439a-b3e6-fa312b9b687a",
   "metadata": {
    "tags": []
   },
   "outputs": [
    {
     "name": "stdout",
     "output_type": "stream",
     "text": [
      "Number of people in room: 30\n"
     ]
    }
   ],
   "source": [
    "# Set up a list of randomly chosen birthdays, beginning with day 0 being Jan-1\n",
    "\n",
    "from random import randint\n",
    "birthdays = []\n",
    "\n",
    "while True: \n",
    "    next_bDay = randint(0, 365)\n",
    "    if next_bDay in birthdays:\n",
    "        count = len(birthdays) + 1\n",
    "        print('Number of people in room: ' + str(count))\n",
    "        break\n",
    "    else:\n",
    "        birthdays.append(next_bDay)"
   ]
  },
  {
   "cell_type": "markdown",
   "id": "d2a7ca3e-145f-49f0-9554-5227d2ce615b",
   "metadata": {},
   "source": [
    "Now let's do it several times, to see how many times it takes on average!"
   ]
  },
  {
   "cell_type": "code",
   "execution_count": 19,
   "id": "7b41a604-fac5-4cf5-8b06-57c8db4191f9",
   "metadata": {
    "tags": []
   },
   "outputs": [
    {
     "name": "stdout",
     "output_type": "stream",
     "text": [
      "Average number of people in 10000 simulations: 24.5805\n"
     ]
    }
   ],
   "source": [
    "from random import randint\n",
    "people_counts = [] # Keep track of how many people before collision\n",
    "\n",
    "numTrials = 10000 # Do this many trials of the first simulation\n",
    "for _ in range(numTrials): \n",
    "    birthdays = []\n",
    "    \n",
    "    while True:\n",
    "        next_bDay = randint(0, 365)\n",
    "        if next_bDay in birthdays:\n",
    "            count = len(birthdays) + 1\n",
    "            people_counts.append(count)\n",
    "            break\n",
    "        else:\n",
    "            birthdays.append(next_bDay)\n",
    "            \n",
    "# Now report the average\n",
    "average = sum(people_counts) / numTrials\n",
    "print(f'Average number of people in {numTrials} simulations: {average}')"
   ]
  },
  {
   "cell_type": "markdown",
   "id": "077597d1-38fe-4e7a-8487-f98c9714be47",
   "metadata": {},
   "source": [
    "Experiment a bit with this on your own! You can also modify this code to explore the probabilities for differing numbers of people in the room. Just generate a list of N random numbers and see if there's a collision! One slightly crafty way to check if a list A in Python has any duplicates is to run \n",
    "`if len(set(A)) != len(A)`."
   ]
  },
  {
   "cell_type": "code",
   "execution_count": null,
   "id": "9be12d94-ce55-45d4-b1ff-3e095434d410",
   "metadata": {},
   "outputs": [],
   "source": []
  }
 ],
 "metadata": {
  "kernelspec": {
   "display_name": "Python 3 (ipykernel)",
   "language": "python",
   "name": "python3"
  },
  "language_info": {
   "codemirror_mode": {
    "name": "ipython",
    "version": 3
   },
   "file_extension": ".py",
   "mimetype": "text/x-python",
   "name": "python",
   "nbconvert_exporter": "python",
   "pygments_lexer": "ipython3",
   "version": "3.7.8"
  }
 },
 "nbformat": 4,
 "nbformat_minor": 5
}
