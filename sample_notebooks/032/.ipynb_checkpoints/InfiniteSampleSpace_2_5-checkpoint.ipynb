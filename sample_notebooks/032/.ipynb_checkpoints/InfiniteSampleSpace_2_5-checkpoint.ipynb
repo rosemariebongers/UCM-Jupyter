{
 "cells": [
  {
   "cell_type": "markdown",
   "id": "af874620-cefd-4a1f-97a2-d8145e20e821",
   "metadata": {
    "editable": true,
    "slideshow": {
     "slide_type": ""
    },
    "tags": []
   },
   "source": [
    "This notebook explores one of the experimental setups that we touched on in class on August 29, and is an experiment discussed in $\\S 2.5$ of the textbook.\n",
    "\n",
    "In this experiment, we flip a coin repeatedly until it comes up heads $H$; we then record the number of flips it took to have that result. Suppose further that the coin isn't necessarily fair; it lands on $H$ with probability $p$ and on tails $T$ with probability $1 - p$. \n",
    "\n",
    "The code below uses a tunable parameter $p$ to run some trials of this experiment; play around with it (especially by adjusting $p$) and see what you find! How long does it take, if you run it a few times, to get $H$? "
   ]
  },
  {
   "cell_type": "code",
   "execution_count": 63,
   "id": "329361f3-96ee-41c4-a779-9173a0f4e4b6",
   "metadata": {
    "editable": true,
    "slideshow": {
     "slide_type": ""
    },
    "tags": []
   },
   "outputs": [
    {
     "name": "stdout",
     "output_type": "stream",
     "text": [
      "Using p = 0.2, it took 2 flips to see H\n"
     ]
    }
   ],
   "source": [
    "from random import random\n",
    "\n",
    "def runExperiment(p):\n",
    "    # Flip until we get heads, record results\n",
    "    S = ''\n",
    "\n",
    "    while True:\n",
    "        r = random()\n",
    "        if r < p:\n",
    "            S += 'H'\n",
    "            break\n",
    "        else:\n",
    "            S += 'T'\n",
    "\n",
    "    # Return the results to the user\n",
    "    return len(S)\n",
    "\n",
    "# Report the results\n",
    "p = 0.2\n",
    "print(f'Using p = {p}, it took {runExperiment(p)} flips to see H')"
   ]
  },
  {
   "cell_type": "markdown",
   "id": "e994a046-54fd-4ef4-a895-23a3eb9b0a65",
   "metadata": {
    "editable": true,
    "slideshow": {
     "slide_type": ""
    },
    "tags": []
   },
   "source": [
    "One thing that you might have noticed is that the number of flips it takes to observe $H$ is pretty variable. Of course, we can theoretically see very high numbers of flips necessary to get $H$; but this has a pretty low probability of actually occurring! Let's experiment a bit with this and see what happens if we run the experiment many, many times."
   ]
  },
  {
   "cell_type": "code",
   "execution_count": 92,
   "id": "cf3c4806-234a-452c-ac22-98c0a4ce4355",
   "metadata": {
    "editable": true,
    "slideshow": {
     "slide_type": ""
    },
    "tags": []
   },
   "outputs": [
    {
     "name": "stdout",
     "output_type": "stream",
     "text": [
      "Using 100000 trials: average number of flips = 3.34131\n"
     ]
    }
   ],
   "source": [
    "numTrials = 100000 # You can modify this!\n",
    "p = 0.3            # This too!\n",
    "\n",
    "# Run the experiment repeatedly\n",
    "counts = []\n",
    "for _ in range(numTrials):\n",
    "    counts.append(runExperiment(p))\n",
    "\n",
    "# Report\n",
    "print(f'Using {numTrials} trials: average number of flips = {sum(counts) / numTrials}')"
   ]
  },
  {
   "cell_type": "markdown",
   "id": "f40188e0-6bb9-4c91-ad04-7b81868715ba",
   "metadata": {
    "editable": true,
    "slideshow": {
     "slide_type": ""
    },
    "tags": []
   },
   "source": [
    "For example, when I ran this with $1000$ trials and a probability $p = 0.3$, it reported that the average number of flips was $3.247$. Soon, we'll see that the long-term average (also called the [expected value](https://en.wikipedia.org/wiki/Expected_value)) of this setup is given by the series\n",
    "$$\\sum_{n = 1}^{\\infty} \\underbrace{n}_{\\text{\\# of flips}} \\cdot \\underbrace{p \\cdot (1 - p)^{n - 1}}_{\\text{probability it took that \\#}}.$$\n",
    "It turns out that this simplifies to exactly $1/p$, or $3.33...$ in our case. I also ran it with 100K trials and got an average of $3.34131$, which is a lot closer to the predicted value! \n"
   ]
  },
  {
   "cell_type": "code",
   "execution_count": null,
   "id": "9824f998-3ebb-421a-a0ca-225d43d12ea7",
   "metadata": {
    "editable": true,
    "slideshow": {
     "slide_type": ""
    },
    "tags": []
   },
   "outputs": [],
   "source": []
  }
 ],
 "metadata": {
  "kernelspec": {
   "display_name": "Python 3 (ipykernel)",
   "language": "python",
   "name": "python3"
  },
  "language_info": {
   "codemirror_mode": {
    "name": "ipython",
    "version": 3
   },
   "file_extension": ".py",
   "mimetype": "text/x-python",
   "name": "python",
   "nbconvert_exporter": "python",
   "pygments_lexer": "ipython3",
   "version": "3.11.5"
  }
 },
 "nbformat": 4,
 "nbformat_minor": 5
}
