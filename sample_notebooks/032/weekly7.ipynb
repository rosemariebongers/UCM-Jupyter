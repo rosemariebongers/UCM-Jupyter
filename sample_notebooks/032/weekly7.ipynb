{
 "cells": [
  {
   "cell_type": "markdown",
   "id": "35075e8a-b4f4-4393-b9d1-7b4fd4366fd3",
   "metadata": {},
   "source": [
    "<h2> Exploring the Central Limit Theorem </h2>\n",
    "\n",
    "In this notebook, we're going to explore the central limit theorem. The theorem says that as $N \\to \\infty$, an appropriately scaled average of $N$ IID random variables will converge to a normal distribution. A natural question that comes up is how large $N$ should be in order to use the central limit theorem accurately and efficiently: if $N$ is too small, then the limit is a bad approximation and if $N$ is too large, we require too much data to be practical.\n",
    "\n",
    "From Thursday's class, we did an example where we averaged 30 exponential random variables with distribution $\\operatorname{Exp}(1/10)$, and approximated the average as $\\operatorname{N(10, 100/30)}.$ We can also directly simulate the sum of $30$ exponential random variables (we've implemented `Exp` in previous notebooks, and in last week's notebook you took the average of a bunch of random variables!) and compare the estimates for $P(\\overline{X}_{30} > 14)$. The central limit theorem estimate for the probability is about $1.4\\%$, while the simulated sum of $30$ exponential variables is around $2.2\\%$ (using $10^6$ trials). \n",
    "\n",
    "Although these numbers are on the same scale (each representing a fairly unlikely outcome that's not too extreme), they are still off by nearly $60\\%$. This is because $30$ is a small number of trials, and the central limit theorem improves as we take a larger number of trials.\n",
    "\n",
    "<h3> This week's problems </h3>\n",
    "\n",
    "You'll explore some of these probabilities and see how the estimates improve as $N$ increases; this will give you a feel for when the CLT is actually applicable in practice. \n",
    "\n",
    "* Verify the numbers above, that the probability that a sum of $30$ IID $\\operatorname{Exp}(1/10)$ random variables will have probability around $0.022$ of being $\\ge 14$.\n",
    "\n",
    "* For a sum of $100$ IID $\\operatorname{Exp}(1/10)$ random variables, simulate the probability that the average is $\\ge 11$ and $\\le 9$. Compare this to the results of the central limit theorem; is there better agreement than with $30$ random variables?\n",
    "\n",
    "* For a sum of $10$ IID $\\operatorname{Unif(-1, 1)}$ random variables, simulate the probability that the **sum** is $\\ge 1$, $\\ge 2$, and $\\ge 5$. Compare this to the results of the central limit theorem.\n",
    "\n",
    "* Repeat the previous part but for $20, 30, 100,$ and $500$ IID $\\operatorname{Unif}(-1, 1)$ random variables, and compare to the CLT. For which values of $N$ do you think it's reasonable to estimate with the CLT?\n",
    "\n",
    "To help get you started, the following code implements the z-score calculation. You can also look at recent notebooks to find code that implements a running sum of samples and code that implements the uniform distribution. One useful trick to remember is that if $R$ is a $\\operatorname{Unif}(0, 1)$ random variable, then $2R - 1$ has a $\\operatorname{Unif}(-1, 1)$ distribution."
   ]
  },
  {
   "cell_type": "code",
   "execution_count": 8,
   "id": "177d83c5-74f9-4391-b26e-996598c3232d",
   "metadata": {},
   "outputs": [
    {
     "name": "stdout",
     "output_type": "stream",
     "text": [
      "z-score: 2.1908902300206643\n"
     ]
    }
   ],
   "source": [
    "# Need to take square roots:\n",
    "from math import sqrt\n",
    "\n",
    "# You'll also need to generate random numbers:\n",
    "from random import random\n",
    "\n",
    "def zScore(mu, var, observed, N):\n",
    "    # Compute the z-score of an observation given \n",
    "    # the number of trials (N) of IID random variables\n",
    "    # all having mean mu and variance var\n",
    "\n",
    "    return (observed - mu) / sqrt(var / N)\n",
    "\n",
    "# Example calculation from Thursday's class with\n",
    "# the exponential distribution:\n",
    "print(f'z-score: {zScore(10, 100, 14, 30)}')\n"
   ]
  }
 ],
 "metadata": {
  "kernelspec": {
   "display_name": "Python 3 (ipykernel)",
   "language": "python",
   "name": "python3"
  },
  "language_info": {
   "codemirror_mode": {
    "name": "ipython",
    "version": 3
   },
   "file_extension": ".py",
   "mimetype": "text/x-python",
   "name": "python",
   "nbconvert_exporter": "python",
   "pygments_lexer": "ipython3",
   "version": "3.11.5"
  }
 },
 "nbformat": 4,
 "nbformat_minor": 5
}
