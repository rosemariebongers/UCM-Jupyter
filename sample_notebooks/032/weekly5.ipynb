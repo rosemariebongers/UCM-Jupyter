{
 "cells": [
  {
   "cell_type": "markdown",
   "id": "f92e4857-3f9f-48aa-a598-643871232cbc",
   "metadata": {},
   "source": [
    "<h2> Working with real-world data </h2>\n",
    "\n",
    "<h3> Introduction </h3>\n",
    "\n",
    "Now that we've introduced the big computational tools, it's time to start using them to analyze some real-world data sets. In this week's notebook you'll analyze some summary statistics for a data set, understand how they differ, and think about what they each measure.\n",
    "\n",
    "This week, we'll work with GDP (gross domestic product) data, which gives a measurement of the total economic activity of a region. The source we'll use is [Our World in Data](https://ourworldindata.org/grapher/national-gdp-constant-usd-wb?tab=table&time=latest), which also has [really nice interactive charts](https://ourworldindata.org/grapher/national-gdp-constant-usd-wb). I've cleaned the data set very slightly to remove empty data; the raw data is in `gdp_data.csv` and we can import it into Python:\n"
   ]
  },
  {
   "cell_type": "code",
   "execution_count": 8,
   "id": "ed8127c0-0b45-47f2-ae6a-cd58af0bda36",
   "metadata": {},
   "outputs": [
    {
     "name": "stdout",
     "output_type": "stream",
     "text": [
      "{'Afghanistan': 17083574000.0, 'Albania': 13582024000.0, 'Algeria': 174201320000.0, 'American Samoa': 648340500.0, 'Andorra': 2911602700.0, 'Angola': 79346280000.0, 'Antigua and Barbuda': 1369612300.0, 'Argentina': 568142600000.0, 'Armenia': 12621676000.0, 'Aruba': 3225070300.0, 'Australia': 1524362400000.0, 'Austria': 405145850000.0, 'Azerbaijan': 54180410000.0, 'Bahamas': 10893360000.0, 'Bahrain': 33998540000.0, 'Bangladesh': 285269500000.0, 'Barbados': 4161995800.0, 'Belarus': 59948356000.0, 'Belgium': 497354240000.0, 'Belize': 2293518800.0, 'Benin': 15779239000.0, 'Bermuda': 6718028300.0, 'Bhutan': 2314503200.0, 'Bolivia': 36984185000.0, 'Bosnia and Herzegovina': 19175766000.0, 'Botswana': 16479434000.0, 'Brazil': 1829904300000.0, 'Brunei': 13215733000.0, 'Bulgaria': 59382313000.0, 'Burkina Faso': 16347272000.0, 'Burundi': 3276109800.0, 'Cambodia': 23721260000.0, 'Cameroon': 38971900000.0, 'Canada': 1680392800000.0, 'Cape Verde': 1745467500.0, 'Cayman Islands': 5217706500.0, 'Central African Republic': 2022834700.0, 'Chad': 10233349000.0, 'Chile': 275165020000.0, 'China': 15801911000000.0, 'Colombia': 330638330000.0, 'Comoros': 1113744500.0, 'Congo': 8846463000.0, 'Costa Rica': 66456646000.0, \"Cote d'Ivoire\": 65342546000.0, 'Croatia': 59133846000.0, 'Cuba': 82070970000.0, 'Curacao': 2382020000.0, 'Cyprus': 25506367000.0, 'Czechia': 210995920000.0, 'Democratic Republic of Congo': 48065880000.0, 'Denmark': 341796500000.0, 'Djibouti': 3212645600.0, 'Dominica': 504333900.0, 'Dominican Republic': 93508040000.0, 'East Timor': 2722486500.0, 'Ecuador': 97753880000.0, 'Egypt': 425960400000.0, 'El Salvador': 26104797000.0, 'Equatorial Guinea': 9534008000.0, 'Estonia': 28890862000.0, 'Eswatini': 4677967400.0, 'Ethiopia': 100431266000.0, 'Fiji': 4107980000.0, 'Finland': 256533800000.0, 'France': 2577596000000.0, 'French Polynesia': 5381881300.0, 'Gabon': 15398038000.0, 'Gambia': 1759428000.0, 'Georgia': 18290210000.0, 'Germany': 3554676000000.0, 'Ghana': 66149904000.0, 'Greece': 201202600000.0, 'Greenland': 2703236900.0, 'Grenada': 1024705200.0, 'Guam': 5342045000.0, 'Guatemala': 75085040000.0, 'Guinea': 13163555000.0, 'Guinea-Bissau': 1265072800.0, 'Guyana': 8735456000.0, 'Haiti': 14687836000.0, 'Honduras': 24956121000.0, 'Hong Kong': 329744600000.0, 'Hungary': 150685550000.0, 'Iceland': 20271528000.0, 'India': 2726370500000.0, 'Indonesia': 1065595000000.0, 'Iran': 469947060000.0, 'Iraq': 183896950000.0, 'Ireland': 447783930000.0, 'Isle of Man': 8129451500.0, 'Israel': 382099820000.0, 'Italy': 1862306200000.0, 'Jamaica': 14058989000.0, 'Japan': 4435431000000.0, 'Jordan': 42157527000.0, 'Kazakhstan': 214679960000.0, 'Kenya': 90372800000.0, 'Kiribati': 178690720.0, 'Kosovo': 7912073700.0, 'Kuwait': 104326530000.0, 'Kyrgyzstan': 7517386000.0, 'Laos': 19054756000.0, 'Latvia': 31300856000.0, 'Lebanon': 34090267000.0, 'Lesotho': 2221461000.0, 'Liberia': 3270920200.0, 'Libya': 60910776000.0, 'Lithuania': 51069702000.0, 'Luxembourg': 68993900000.0, 'Macao': 27876942000.0, 'Madagascar': 12784234000.0, 'Malawi': 7744644000.0, 'Malaysia': 355073030000.0, 'Maldives': 5114230000.0, 'Mali': 16313965000.0, 'Malta': 14462554000.0, 'Marshall Islands': 221287100.0, 'Mauritania': 7429785600.0, 'Mauritius': 12285243000.0, 'Mexico': 1206918300000.0, 'Micronesia (country)': 316177000.0, 'Moldova': 9662250000.0, 'Monaco': 7490920400.0, 'Mongolia': 13749956000.0, 'Montenegro': 4551482400.0, 'Morocco': 123866070000.0, 'Mozambique': 18383776000.0, 'Myanmar': 70876450000.0, 'Namibia': 10617235000.0, 'Nauru': 92009870.0, 'Nepal': 31149050000.0, 'Netherlands': 846872840000.0, 'New Zealand': 207032270000.0, 'Nicaragua': 14063480000.0, 'Niger': 12821088000.0, 'Nigeria': 518476820000.0, 'North Macedonia': 10918282000.0, 'Northern Mariana Islands': 1037951500.0, 'Norway': 419214560000.0, 'Oman': 82728070000.0, 'Pakistan': 341055470000.0, 'Palau': 212807410.0, 'Panama': 60575130000.0, 'Papua New Guinea': 24008698000.0, 'Paraguay': 41998594000.0, 'Peru': 217029920000.0, 'Philippines': 378957400000.0, 'Poland': 598302700000.0, 'Portugal': 215084040000.0, 'Puerto Rico': 92384730000.0, 'Qatar': 163984570000.0, 'Romania': 220677390000.0, 'Russia': 1490186400000.0, 'Rwanda': 11983601000.0, 'Saint Kitts and Nevis': 894798340.0, 'Saint Lucia': 1681956400.0, 'Saint Vincent and the Grenadines': 827008830.0, 'Samoa': 843469440.0, 'San Marino': 1408417000.0, 'Sao Tome and Principe': 377594180.0, 'Saudi Arabia': 672126530000.0, 'Senegal': 24246002000.0, 'Serbia': 48616505000.0, 'Seychelles': 1651621600.0, 'Sierra Leone': 5181035000.0, 'Singapore': 360897280000.0, 'Sint Maarten (Dutch part)': 1108000900.0, 'Slovakia': 99037470000.0, 'Slovenia': 52164080000.0, 'Solomon Islands': 1434447600.0, 'Somalia': 7302356500.0, 'South Africa': 353258440000.0, 'South Korea': 1693643400000.0, 'Spain': 1238777900000.0, 'Sri Lanka': 96953500000.0, 'Sudan': 79726260000.0, 'Suriname': 4296021000.0, 'Sweden': 565187300000.0, 'Switzerland': 760153300000.0, 'Syria': 15096250000.0, 'Tajikistan': 12476305000.0, 'Tanzania': 64155324000.0, 'Thailand': 438481350000.0, 'Togo': 5460540000.0, 'Tonga': 475116320.0, 'Trinidad and Tobago': 21633220000.0, 'Tunisia': 46984710000.0, 'Turkey': 1131039400000.0, 'Turkmenistan': 45710025000.0, 'Turks and Caicos Islands': 819238660.0, 'Tuvalu': 47924612.0, 'Uganda': 42210587000.0, 'Ukraine': 101454370000.0, 'United Arab Emirates': 398355500000.0, 'United Kingdom': 3036531700000.0, 'United States': 20529460000000.0, 'United States Virgin Islands': 3786142500.0, 'Uruguay': 54390980000.0, 'Uzbekistan': 116189780000.0, 'Vanuatu': 821237700.0, 'Vietnam': 332270930000.0, 'Yemen': 36789140000.0, 'Zambia': 24495921000.0, 'Zimbabwe': 2061883600.0}\n"
     ]
    }
   ],
   "source": [
    "# Open the file and import the data\n",
    "with open('gdp_data.csv') as f:\n",
    "    raw_data = f.readlines()\n",
    "\n",
    "# Reformat into a usable thing. Format is {country: GDP}\n",
    "data = {}\n",
    "for row in raw_data[1:]:\n",
    "    country = row.split(',')[0]\n",
    "    # This line looks scary, but it's just to strip out a bunch of commas and format as a number\n",
    "    # Feel free to ignore what it's doing!\n",
    "    gdp = float(row.split(',')[1][:-1]) \n",
    "    \n",
    "    data[country] = gdp\n",
    "    \n",
    "countries = list(data.keys())\n",
    "gdps = list(data.values())\n",
    "sorted_gpds = sorted(gdps)\n",
    "\n",
    "# Uncomment this line to print the raw data:\n",
    "# print(data)\n",
    "\n",
    "# Uncomment this line to print the list of countries:\n",
    "# print(countries)"
   ]
  },
  {
   "cell_type": "markdown",
   "id": "a12be3ef-5610-41cf-83a0-fb25f41815ef",
   "metadata": {},
   "source": [
    "For example, the GDP of the US in 2021 was estimated as nearly 21 trillion dollars, while the GDP of Nauru is roughly about 92 million dollars:"
   ]
  },
  {
   "cell_type": "code",
   "execution_count": 9,
   "id": "053be399-ca62-41de-b49f-7e992e475ea8",
   "metadata": {},
   "outputs": [
    {
     "name": "stdout",
     "output_type": "stream",
     "text": [
      "20529460000000.0\n",
      "92009870.0\n"
     ]
    }
   ],
   "source": [
    "print(data['United States'])\n",
    "print(data['Nauru'])"
   ]
  },
  {
   "cell_type": "markdown",
   "id": "de49cb93-59d1-42e0-82e8-779b5185b726",
   "metadata": {},
   "source": [
    "There are 205 regions listed in the data set; many are countries, but some are regions within countries (such as Greenland). The countries range in size from China and the United States (each with a GDP above 15 trillion dollars) to Tuvalu, Nauru, and Kiribati (all under 200 million dollars). The list `sorted_gdps` contains all the GDPs listed in increasing order.\n",
    "\n",
    "<h3> Questions </h3>\n",
    "\n",
    "* Find the mean GDP of the regions represented in this data set. Which country is closest to the mean?\n",
    "\n",
    "* Find the 10th, 50th, and 90th percentiles of GDPs for the regions represented in this data set. Which country appears at each of these percentiles?\n",
    "\n",
    "* An *outlier* is a [data point that differs significantly from other observations](https://en.wikipedia.org/wiki/Outlier). Does this data set have an outliers?\n",
    "\n",
    "* The mean and the median differ by a factor of over 10. Why is this? Which one do you think is a better representation of a \"typical\" country?\n",
    "\n",
    "*Using the data hint*: You can open the file `gdp_data.csv` to see all the data in a nice format that's sorted in alphabetical order."
   ]
  },
  {
   "cell_type": "markdown",
   "id": "a3debf23-219f-4376-913b-efacb4527fa5",
   "metadata": {},
   "source": [
    "<h4> Submission </h4>\n",
    "\n",
    "Use the cells below for any computations you need to do, and a separate cell where you write your answers to each of the four questions above. Then export your notebook as a pdf and upload it to Gradescope under this week's Jupyter assignment."
   ]
  },
  {
   "cell_type": "code",
   "execution_count": 13,
   "id": "8331d460-271a-4ee1-9eb5-5ca9bc838a29",
   "metadata": {},
   "outputs": [
    {
     "name": "stdout",
     "output_type": "stream",
     "text": [
      "25506367000.0\n"
     ]
    }
   ],
   "source": [
    "print(sorted_gpds[100])"
   ]
  },
  {
   "cell_type": "markdown",
   "id": "085f047c-3e36-4471-a9f9-b439023a7a7a",
   "metadata": {},
   "source": [
    "*Add your answers here*"
   ]
  }
 ],
 "metadata": {
  "kernelspec": {
   "display_name": "Python 3 (ipykernel)",
   "language": "python",
   "name": "python3"
  },
  "language_info": {
   "codemirror_mode": {
    "name": "ipython",
    "version": 3
   },
   "file_extension": ".py",
   "mimetype": "text/x-python",
   "name": "python",
   "nbconvert_exporter": "python",
   "pygments_lexer": "ipython3",
   "version": "3.11.5"
  }
 },
 "nbformat": 4,
 "nbformat_minor": 5
}
