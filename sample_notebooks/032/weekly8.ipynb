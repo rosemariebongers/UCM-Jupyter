{
 "cells": [
  {
   "cell_type": "markdown",
   "id": "df3f021f-d678-40ae-b791-5aa2aff1a4e7",
   "metadata": {},
   "source": [
    "<h2> Exploring estimators </h2>\n",
    "\n",
    "In this week's notebook, we're going to explore various estimators, their biases, and their efficiencies. \n",
    "\n",
    "<h4> An estimator for an exponential parameter </h4>\n",
    "\n",
    "Let's draw a dataset from an exponential distribution $\\operatorname{Exp}(\\lambda)$, which has mean $1/\\lambda$. We know that if we build a dataset $\\{x_1, x_2, ..., x_n\\}$ by sampling from this distribution, then the sample mean is an unbiased estimator for $1/\\lambda$. On your homework, you found that\n",
    "$$T_n = \\frac{n}{x_1 + x_2 + \\cdots + x_n}$$\n",
    "is *not* an unbiased estimator for $\\lambda$; for example, $E[T_1] = \\infty$. On the other hand, an easy-to-compute biased estimator with low variance is sometimes preferable to a hard-to-compute unbiased estimator with high variance. We'll explore what happens as $n \\to \\infty$ in the **following questions**:\n",
    "\n",
    "* Suppose that $\\lambda = 0.5$ and that $n = 2$. Make an estimate for $E[T_2]$ using an appropriate number of simulations. As an estimator for $\\lambda$, is it biased positively or negatively?\n",
    "* Repeat the previous part with $n = 10$ and $n = 100$. Can you make a conjecture for the behavior of $E[T_n]$ as $n \\to \\infty$?\n",
    "\n",
    "<h4> Quantifying efficiency of an estimator </h4>\n",
    "\n",
    "Suppose that we know data is drawn from a uniform distribution $\\operatorname{Unif}(0, \\theta)$, where $\\theta$ is unknown. At this point, we have three different estimators for $\\theta$; they are\n",
    "\n",
    "* $A = 12 X_1^2,$ which is an unbiased for $\\theta^2$,\n",
    "* $B = 2 X_1$, which is unbiased (from the homework!), and\n",
    "* $C = \\max\\{X_1, X_2, ..., X_n\\}$, which has expectation $\\frac{n}{n + 1} \\theta$ (from the homework!).\n",
    "\n",
    "One tool for quantifying how \"good\" an estimator is the *mean squared error*, or MSE. It's defined as the mean of the squared error:\n",
    "$$MSE(T) = E[(T - \\theta)^2].$$ \n",
    "For an unbiased estimator, this is exactly the variance of $T$ itself; naturally, this means that smaller values are generally better. We'll explore the MSE for each of the three estiamtors for $\\theta$ in the **following questions**:\n",
    "\n",
    "* Suppose that you know $\\theta = 1$. Estimate the MSE of $A$ using an appropriate number of trials. (Note that $\\theta^2 = 1 = \\theta$ in this case!)\n",
    "* Estimate the MSE of $B$ under the same conditions.\n",
    "* Estimate the MSE of $C$ using $n = 1$, $n = 10$, and $n = 100$. Make a conjecture for what happens as $n \\to \\infty$."
   ]
  },
  {
   "cell_type": "code",
   "execution_count": 82,
   "id": "e077e9dc-0318-4452-9672-9dd8a49168a7",
   "metadata": {},
   "outputs": [],
   "source": [
    "# To get you started: here's the exponential distribution again:\n",
    "from random import random\n",
    "from math import log\n",
    "\n",
    "def Exp(lamb):\n",
    "    return -log(random()) / lamb\n"
   ]
  }
 ],
 "metadata": {
  "kernelspec": {
   "display_name": "Python 3 (ipykernel)",
   "language": "python",
   "name": "python3"
  },
  "language_info": {
   "codemirror_mode": {
    "name": "ipython",
    "version": 3
   },
   "file_extension": ".py",
   "mimetype": "text/x-python",
   "name": "python",
   "nbconvert_exporter": "python",
   "pygments_lexer": "ipython3",
   "version": "3.11.5"
  }
 },
 "nbformat": 4,
 "nbformat_minor": 5
}
