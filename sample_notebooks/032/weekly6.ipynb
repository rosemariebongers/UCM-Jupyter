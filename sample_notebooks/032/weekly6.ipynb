{
 "cells": [
  {
   "cell_type": "markdown",
   "id": "cc490196-5ff2-4da8-a485-1b94ee6d5966",
   "metadata": {},
   "source": [
    "<h2> Long-term averages </h2>\n",
    "\n",
    "In this week's notebook, you'll explore data and understand how the averages tend towards their limits. We'll generate data from different distributions and see how it settles down towards a particular value over time, by repeatedly computing averages."
   ]
  },
  {
   "cell_type": "markdown",
   "id": "b3295603-3234-443b-89d1-9cf78e34ee4e",
   "metadata": {},
   "source": [
    "<h3> Questions </h3>\n",
    "\n",
    "* Generate $100$ random numbers from a $\\operatorname{Unif}(0, 1)$ distribution (this is what Python's `rand()` will default to). We'll let $Y$ be the average of these, $\\mu$ be its mean, and $\\sigma$ its standard deviation. Using an appropriate number of trials, estimate the probabilities $P(|Y - \\mu| \\ge 0.1)$ and $P(|Y - \\mu| \\ge 0.01)$. Compare your answers to the bound from Chebyshev's inequality; are your simulations consistent with the theory?\n",
    "\n",
    "* Repeat the first question but with $25$ random numbers drawn from an $\\operatorname{Exp}(4)$ distribution.\n",
    "\n",
    "* Repeat the first question but with $400$ random numbers drawn from a $\\operatorname{Par}(2)$ distribution.\n",
    "\n",
    "<h4> Notes </h4>\n",
    "\n",
    "You can stitch together code from past weeks' notebooks to answer this. In particular, we've generated random numbers to simulate data before, stored it, and averaged it. We've even generated random data from an exponential distribution (look at `weekly3.ipynb`). \n",
    "\n",
    "Make use of the previous notebooks! You won't have to write very much from scratch. In fact, the only thing we haven't done yet is to generate random data from a Pareto distribution. The following does that:"
   ]
  },
  {
   "cell_type": "code",
   "execution_count": 45,
   "id": "ff957c13-b6c6-48ca-adbe-1d89411095c7",
   "metadata": {},
   "outputs": [],
   "source": [
    "from random import random\n",
    "\n",
    "def Pareto(alpha):\n",
    "    r = random()\n",
    "    return (1 - r)**(-1/alpha)\n",
    "\n",
    "# Usage: Pareto(alpha) returns a Pareto random variable with that parameter. \n",
    "# Example:\n",
    "# print(Pareto(1))"
   ]
  }
 ],
 "metadata": {
  "kernelspec": {
   "display_name": "Python 3 (ipykernel)",
   "language": "python",
   "name": "python3"
  },
  "language_info": {
   "codemirror_mode": {
    "name": "ipython",
    "version": 3
   },
   "file_extension": ".py",
   "mimetype": "text/x-python",
   "name": "python",
   "nbconvert_exporter": "python",
   "pygments_lexer": "ipython3",
   "version": "3.11.5"
  }
 },
 "nbformat": 4,
 "nbformat_minor": 5
}
